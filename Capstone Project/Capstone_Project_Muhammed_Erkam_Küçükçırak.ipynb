{
  "nbformat": 4,
  "nbformat_minor": 0,
  "metadata": {
    "colab": {
      "provenance": []
    },
    "kernelspec": {
      "name": "python3",
      "display_name": "Python 3"
    },
    "language_info": {
      "name": "python"
    }
  },
  "cells": [
    {
      "cell_type": "markdown",
      "source": [
        "**<div align=\"center\"><p>CEV & BEBKA - VERİ BİLİMCİ YETİŞTİRME PROGRAMI 2</p> </div>**\n",
        "**<div align=\"center\"><p>CAPSTONE PROJECT</p> </div>**\n",
        "**<div align=\"center\"><p>Face Tracking of Drivers Using YOLOv5 and Estimating Probability of Car Crash by Training Emotion, Age and Eye Condition Models</p> </div>**\n",
        "**<div align=\"center\"><p>Muhammed Erkam KÜÇÜKÇIRAK</p> </div>**\n",
        "\n"
      ],
      "metadata": {
        "id": "QUTShS3ZYCGZ"
      }
    },
    {
      "cell_type": "markdown",
      "source": [
        "<h1>1. ABSTRACT</h1><p>Nowadays, the number of traffic accidents is quite high.\n",
        "Most of them depends on drivers attention. Emotions, age and drowsiness might cause a car accident.  In this project, a solution was applied using cameras where had been placed inside the cars. The method of detecting drowsiness might prevent accidents. In order to achieve this, YOLOv5 and CNN models was used. Even though it is hard to work with facial datasets, the models had high accuracy values  </p>\n",
        "\n"
      ],
      "metadata": {
        "id": "w5PS6hbuW-6F"
      }
    },
    {
      "cell_type": "markdown",
      "source": [
        "<h1>2. RELATED WORKS</h1>\n",
        "<p>Danisman et al. [1] started with the detection of the face using the Viola Jones [2] face detector available in the OpenCV library. Then, they used the neural network-based eye detector [3] available in the STASM [4] library to locate the positions of the pupils. The STASM is a variation of the Active Shape Model of Coote's implementation [5]. They derived only the Rowley's eye detection code for real-time speed constraints from the STASM library which is a group of neural networks that provides eye positions.</p>\n",
        "<p> Yang et al. [6] declated the size of input image as 416∗416. After a series of convolution and batch normalization operations on the input image, the input image is sampled three times, 32 times, 16 times and 8 times, and the multi-scale feature map is obtained. After 32 times down sampling, the feature map is too small, therefore YOLO V3 uses the up sampling with step size of2 to double the size of the resulting feature map, which becomes 16 times of down sampling. Similarly, the feature map sampled on 16 times is sampled with a step length of2, and the feature map with a sampling size of 8 times is obtained, so that deep feature can be used for detection.</p>\n"
      ],
      "metadata": {
        "id": "LFBfDkEa4nF6"
      }
    },
    {
      "cell_type": "markdown",
      "source": [
        "<h1> 3. DATASETS </h1>\n",
        "<h2> 3.1. Crash Dataset</h2>\n",
        "<p> A crash dataset [7] was used in order to analyze the effect of age on accidents.</p>"
      ],
      "metadata": {
        "id": "3aHmaOIS8XDM"
      }
    },
    {
      "cell_type": "code",
      "source": [
        "import pandas as pd\n",
        "import matplotlib.pyplot as plt\n",
        "\n",
        "\n",
        "data = pd.read_csv(\"/content/PERSON.csv\")\n",
        "df = data.AGE.value_counts()\n",
        "df = df.to_frame().reset_index()\n",
        "df.rename(columns={\"index\": \"Age\", \"AGE\": \"Frequency\"}, inplace = True)\n",
        "df = df[df['Age'] >= 18]\n",
        "df = df.sort_values('Age')\n",
        "abc = data.AGE.value_counts('Age')\n",
        "plt.bar(df['Age'], df['Frequency'], color ='maroon',width = 0.4) \n",
        "plt.xlabel(\"Age\")\n",
        "plt.ylabel(\"Number of Accidents\")\n",
        "plt.title(\"Accidents of People of Specific Ages\")\n",
        "plt.show()"
      ],
      "metadata": {
        "colab": {
          "base_uri": "https://localhost:8080/",
          "height": 350
        },
        "id": "3O3Bb1ME93RF",
        "outputId": "69895814-fb52-429b-df48-073e8868c800"
      },
      "execution_count": null,
      "outputs": [
        {
          "output_type": "stream",
          "name": "stderr",
          "text": [
            "/usr/local/lib/python3.8/dist-packages/IPython/core/interactiveshell.py:3326: DtypeWarning: Columns (6,9,10,13) have mixed types.Specify dtype option on import or set low_memory=False.\n",
            "  exec(code_obj, self.user_global_ns, self.user_ns)\n"
          ]
        },
        {
          "output_type": "display_data",
          "data": {
            "text/plain": [
              "<Figure size 432x288 with 1 Axes>"
            ],
            "image/png": "[encoded data removed]"
          },
          "metadata": {
            "needs_background": "light"
          }
        }
      ]
    },
    {
      "cell_type": "markdown",
      "source": [
        "<h2>3.2. Age Dataset</h2>\n",
        "<p> UTKFace dataset [8] was used in order to extract features and specify driver's age. UTKFace dataset is a large-scale face dataset with long age span (range from 0 to 116 years old). The dataset consists of over 20,000 face images with annotations of age, gender, and ethnicity.</p>"
      ],
      "metadata": {
        "id": "LJJuIMZOANiu"
      }
    },
    {
      "cell_type": "markdown",
      "source": [
        "<h2>3.3. Eye Dataset</h2> <p>Closed Eyes In The Wild (CEW) dataset [9] was used in order to detect if driver's eyes are open or close.</p>\n",
        "\n"
      ],
      "metadata": {
        "id": "-7AWotWRKZaH"
      }
    },
    {
      "cell_type": "markdown",
      "source": [
        "<h2>3.4. Emotion Dataset</h2>\n",
        "<p>FER-2013 Dataset [10] was used in order to detect driver's emotion. </p>"
      ],
      "metadata": {
        "id": "w9TimbniLhBa"
      }
    },
    {
      "cell_type": "markdown",
      "source": [
        "<h2>3.5. Human Dataset</h2>\n",
        "<p>CrowdHuman dataset [11] was used in order to detect faces from images using YOLOv5.</p>"
      ],
      "metadata": {
        "id": "KRQl5J6KMNUU"
      }
    },
    {
      "cell_type": "markdown",
      "source": [
        "<h1>4. USED METHODOLOGY</h2>\n",
        "<p>This project includes 3 CNN models and 1 YOLOv5 model. To classify age, eye and emotion; VGG19 (by Transfer Learning), Custom CNN model and VGG16 (by Transfer Learning) was used to train CNN models respectively. </p>"
      ],
      "metadata": {
        "id": "Gwj0cxXWMxBw"
      }
    },
    {
      "cell_type": "markdown",
      "source": [
        "<p>This code uploads the weights of trained VGG19 Transfer Learning model on the age dataset. It will be used in order to classify age of drivers.</p>"
      ],
      "metadata": {
        "id": "QUw7EuTW4RiD"
      }
    },
    {
      "cell_type": "code",
      "source": [
        "\"\"\"\n",
        "Load the weights of age classification model.\n",
        "\n",
        "\"\"\"\n",
        "from tensorflow.keras.models import model_from_json\n",
        "\n",
        "json_file = open(r\"/content/age_modelvgg19.json\", 'r')\n",
        "loaded_model_json1 = json_file.read()\n",
        "json_file.close()\n",
        "age_model = model_from_json(loaded_model_json1)\n",
        "# load weights into new model\n",
        "age_model.load_weights(r\"/content/age_modelvgg19.h5\")\n",
        "age_model.compile(loss='categorical_crossentropy', optimizer='adam', metrics=['accuracy'])\n"
      ],
      "metadata": {
        "id": "zAIlIEpJO56H"
      },
      "execution_count": null,
      "outputs": []
    },
    {
      "cell_type": "markdown",
      "source": [
        "<p>This code uploads the weights of trained VGG16 Transfer Learning model on the eye dataset. It will be used in order to classify driver's eye status (open or close).</p>\n"
      ],
      "metadata": {
        "id": "UJ02hMNn4_bA"
      }
    },
    {
      "cell_type": "code",
      "source": [
        "\"\"\"\n",
        "Load the weights of eye classification model.\n",
        "\"\"\"\n",
        "json_file = open(r\"/content/eye_model.json\", 'r')\n",
        "loaded_model_json2 = json_file.read()\n",
        "json_file.close()\n",
        "eye_VGG16_tl = model_from_json(loaded_model_json2)\n",
        "\n",
        "# load weights into new model\n",
        "eye_VGG16_tl.load_weights(r\"/content/eye_model.h5\")\n",
        "eye_VGG16_tl.compile(loss='binary_crossentropy', optimizer='adam', metrics=['accuracy'])"
      ],
      "metadata": {
        "id": "6BwHLVOUN9ys"
      },
      "execution_count": null,
      "outputs": []
    },
    {
      "cell_type": "markdown",
      "source": [
        "<p>This code uploads the weights of trained custom CNN model on the emotion dataset. It will be used in order to classify driver's eye status (open or close).</p>"
      ],
      "metadata": {
        "id": "9ykTtf1M5kBg"
      }
    },
    {
      "cell_type": "code",
      "source": [
        "\"\"\"\n",
        "Load the weights of emotion classification model.\n",
        "\"\"\"\n",
        "from tensorflow.keras.models import model_from_json\n",
        "\n",
        "json_file = open(r\"/content/model_emotion.json\", 'r')\n",
        "loaded_model_json3 = json_file.read()\n",
        "json_file.close()\n",
        "emotion_model = model_from_json(loaded_model_json3)\n",
        "# load weights into new model\n",
        "emotion_model.load_weights(r\"/content/model_emotion.h5\")\n",
        "emotion_model.compile(loss='categorical_crossentropy', optimizer='adam', metrics=['accuracy'])"
      ],
      "metadata": {
        "id": "xedr5KOgPF65"
      },
      "execution_count": null,
      "outputs": []
    },
    {
      "cell_type": "markdown",
      "source": [
        "<h1>5. FINAL PRODUCT DEMO</h1>\n",
        "<p>There is an original video and an annotated demo video if you do not prefer to run this .ipynb file. If you want to run this notebook on your computer, please change the file path areas for your own computer. If you want to run this file on Google Colab, just upload the all files. This code will generate the annotated video automatically. When it's done, the only thing that needed to be done is downloading the output video on your computer. </p>"
      ],
      "metadata": {
        "id": "txSSalbXQh2i"
      }
    },
    {
      "cell_type": "markdown",
      "source": [
        "<p>This codes process the cropped image (human head) by YOLOv5 model for CNN models to predict that which class shall that image to be in.</p>"
      ],
      "metadata": {
        "id": "4dZ1614g6IGT"
      }
    },
    {
      "cell_type": "code",
      "source": [
        "import cv2\n",
        "import numpy as np\n",
        "import torch\n",
        "\n",
        "def pre_procces_for_eye(frame):\n",
        "    image = cv2.resize(frame, (150,150)) \n",
        "    image = np.array(image).reshape(-1,150,150,3)\n",
        "    image = image.astype(\"float32\")\n",
        "    image/= 255.0\n",
        "    return image"
      ],
      "metadata": {
        "id": "xTjPS1OsRmVV"
      },
      "execution_count": null,
      "outputs": []
    },
    {
      "cell_type": "code",
      "source": [
        "def pre_procces_for_age(frame):\n",
        "    image = cv2.resize(frame, (180,180))\n",
        "    image = np.array(image).reshape(-1,180,180,3)\n",
        "    image = image.astype(\"float32\")\n",
        "    image/= 255.0\n",
        "    return image"
      ],
      "metadata": {
        "id": "zpubPZK1Rnib"
      },
      "execution_count": null,
      "outputs": []
    },
    {
      "cell_type": "code",
      "source": [
        "def pre_procces_for_emotion(frame):\n",
        "    image = cv2.resize(frame, (48,48))\n",
        "    image = cv2.cvtColor(image, cv2.COLOR_RGB2GRAY)\n",
        "    image = np.array(image).reshape(-1,48,48,1)\n",
        "    image = image.astype(\"float32\")\n",
        "    image/= 255.0\n",
        "    return image"
      ],
      "metadata": {
        "id": "1NPJQOalRnsD"
      },
      "execution_count": null,
      "outputs": []
    },
    {
      "cell_type": "markdown",
      "source": [
        "<p>By this codes, all the trained models are going to work simultaneously. This code is going to obtain ROI (Region Of Interest) of the image and crop it. The cropped image's going to be classified by 3 CNN models. After that, results going to be combined on accident probability. If you want to test the model by the videos that you want to, set the file path for it's own path.</p>"
      ],
      "metadata": {
        "id": "52mT-DbR7gDS"
      }
    },
    {
      "cell_type": "code",
      "source": [
        "PATH = r\"/content/best3.pt\"\n",
        "model_face_yolo = torch.hub.load('ultralytics/yolov5', 'custom', PATH)\n",
        "cap = cv2.VideoCapture(r\"/content/original.mp4\")\n",
        "eye_dictionary = {0:\"Open\", 1:\"Close\"}\n",
        "age_dictionary = {0:[\"18-24\",0.3], 1: [\"25-45\",0.2], 2: [\"45+\",0.1]}\n",
        "emotion_dictionary = {0: [\"Negative\",0.3], 1:[\"Positive\",0.2]}\n",
        "\n",
        "width= int(cap.get(cv2.CAP_PROP_FRAME_WIDTH))\n",
        "height= int(cap.get(cv2.CAP_PROP_FRAME_HEIGHT))\n",
        "\n",
        "writer= cv2.VideoWriter(r\"/content/annotated_demo_by_exec.mp4\", cv2.VideoWriter_fourcc(*'DIVX'), 20, (width,height))\n",
        "\n",
        "i=0\n",
        "temp_li=[]\n",
        "FPS= int(cap.get(cv2.CAP_PROP_FPS))\n",
        "drowsy_queue = []\n",
        "sleeping_queue = []"
      ],
      "metadata": {
        "id": "lbVwbpjNCfci"
      },
      "execution_count": null,
      "outputs": []
    },
    {
      "cell_type": "code",
      "source": [
        "while(True):\n",
        "    ret, frame = cap.read() \n",
        "    if ret == False: break\n",
        "\n",
        "    face_result = model_face_yolo(frame)\n",
        "    try:\n",
        "        boxes = face_result.xyxy[0].numpy()\n",
        "        people_x2y2 = np.sum(boxes[:,2:4], axis=1)\n",
        "        index_of_driver = np.argmax(people_x2y2)\n",
        "        x0, y0, x1, y1, _, _ = boxes[index_of_driver].astype(int) \n",
        "    except:\n",
        "        pass\n",
        "    else:\n",
        "        cropped_img_yolo = frame[y0:y1, x0:x1]\n",
        "        img_age = pre_procces_for_age(cropped_img_yolo)\n",
        "        img_eye = pre_procces_for_eye(cropped_img_yolo)\n",
        "        img_emotion = pre_procces_for_emotion(cropped_img_yolo)\n",
        "\n",
        "\n",
        "        predicted_index_eye = np.argmax(eye_VGG16_tl.predict(img_eye))\n",
        "        predicted_index_age = np.argmax(age_model.predict(img_age))\n",
        "        predicted_emotion = emotion_model.predict(img_emotion)\n",
        "        predicted_index_emotion = np.argmax(predicted_emotion)\n",
        "        predicted_emotion_max = np.max(predicted_emotion)  \n",
        "        \n",
        "        crash_prob= 0.0\n",
        "        crash_prob += age_dictionary[predicted_index_age][1]\n",
        "        \n",
        "        if len(sleeping_queue)>= FPS*7:\n",
        "            sleeping_queue.pop(0)\n",
        "        \n",
        "        if len(drowsy_queue)>= FPS*5:\n",
        "            drowsy_queue.pop(0)\n",
        "        \n",
        "        sleeping_queue.append(eye_dictionary[predicted_index_eye])\n",
        "        drowsy_queue.append(eye_dictionary[predicted_index_eye]) \n",
        "        \n",
        "        \n",
        "        if len(drowsy_queue) >= FPS*3:\n",
        "            if drowsy_queue.count(\"Open\") < drowsy_queue.count(\"Close\") * 4:\n",
        "                cv2.putText(frame, \"Drowsy   : True\", (25, 130), cv2.FONT_HERSHEY_SIMPLEX, 1, (0, 0, 255),thickness = 2)\n",
        "                crash_prob += 0.3\n",
        "            else:\n",
        "                cv2.putText(frame, \"Drowsy   : False\", (25, 130), cv2.FONT_HERSHEY_SIMPLEX, 1, (0, 0, 255),thickness = 2)\n",
        "                \n",
        "        if len(sleeping_queue) == (FPS*5):\n",
        "            if drowsy_queue.count(\"Open\") < drowsy_queue.count(\"Close\") * 5:\n",
        "                crash_prob = 1.0\n",
        "\n",
        "\n",
        "    \n",
        "        driver_x = int(x0 + ((x1-x0)/2))-50\n",
        "\n",
        "        cv2.putText(frame, \"DRIVER\", (driver_x, y1-15), cv2.FONT_HERSHEY_SIMPLEX, 1, (0, 0, 255),thickness = 3)\n",
        "        cv2.putText(frame, f'Eyes          : {eye_dictionary[predicted_index_eye]}', (25, 25), cv2.FONT_HERSHEY_SIMPLEX, 1, (0, 0, 255),thickness = 2)\n",
        "        cv2.putText(frame, f'Age Pred.     : {age_dictionary[predicted_index_age][0]}', (25, 60), cv2.FONT_HERSHEY_SIMPLEX, 1, (0, 0, 255),thickness = 2)\n",
        "\n",
        "        if predicted_emotion_max >= 0.8:\n",
        "            cv2.putText(frame, f'Emotion Pred. : {emotion_dictionary[predicted_index_emotion][0]}', (25, 95), cv2.FONT_HERSHEY_SIMPLEX, 1, (0, 0, 255),thickness = 2)\n",
        "            crash_prob += emotion_dictionary[predicted_index_emotion][1]\n",
        "        else:\n",
        "           cv2.putText(frame, \"Emotion Pred. : Neutral\", (25, 95), cv2.FONT_HERSHEY_SIMPLEX, 1, (0, 0, 255),thickness = 2)\n",
        "\n",
        "        cv2.putText(frame, f'Crash Prob.     : {crash_prob:.2f}', (25, 165), cv2.FONT_HERSHEY_SIMPLEX, 1, (0, 0, 255),thickness = 2)\n",
        "\n",
        "        start_point = (x0, y0)\n",
        "        end_point = (x1, y1)\n",
        "        cv2.rectangle(frame, start_point, end_point, (0,255,0), 2)\n",
        "        writer.write(frame)\n",
        "        \n",
        "    if cv2.waitKey(1) & 0xFF == ord('a'):\n",
        "        break\n",
        "  \n",
        "# Close the window / Release webcam\n",
        "cap.release()\n",
        "writer.release()\n",
        "# De-allocate any associated memory usage \n",
        "cv2.destroyAllWindows()\n"
      ],
      "metadata": {
        "id": "skgSXp7eSFHB"
      },
      "execution_count": null,
      "outputs": []
    },
    {
      "cell_type": "markdown",
      "source": [
        "<p>Download the output video to watch it.</p>"
      ],
      "metadata": {
        "id": "vaq9tdZVU2GW"
      }
    },
    {
      "cell_type": "markdown",
      "source": [
        "<h1>REFERENCES</h1>\n",
        "<p>[1] T. Danisman, I. M. Bilasco, C. Djeraba and N. Ihaddadene, \"Drowsy driver detection system using eye blink patterns,\" 2010 International Conference on Machine and Web Intelligence, 2010, pp. 230-233, doi: 10.1109/ICMWI.2010.5648121.</p>\n",
        "<p> [2] P. Viola and M. Jones, \"Rapid object detection using a boosted cascade of simple features,\" International Conference on Computer Vision and Pattern Recognition, CVPR 2001 </p>\n",
        "<p> [3] H.A. Rowley, S. Baluja and T. Kanade, \"Neural Network-Based Face Detection,\" IEEE Transactions on Pattern Analysis and Machine Intelligence, vol. 20, pp. 23-38, http://vasc.ri.cmu.edu/NNFaceDetector, 1998. </p>\n",
        "<p> [4] S. Milborrow and F. Nicolls, \"Locating facial features with an extended active shape model,\" In D. Forsyth, P. Torr and A. Zisserman (eds.) ECCV 2008, Part IV. LNCS, vol. 5305, 504-513. Springer-Verlag, Heidelberg, 2008.</p>\n",
        "<p> [5] 21. T.F. Cootes, G.J. Edwards and C.J. Taylor, \"Active appearance models,\" In H. Burkhardt and B. Neumann, editors, 5th European Conference on Computer Vision, vol. 2, 484-498. Springer, Berlin, 1998.</p>\n",
        "<p> [6] W. Yang and Z. Jiachun, \"Real-time face detection based on YOLO,\" 2018 1st IEEE International Conference on Knowledge Innovation and Invention (ICKII), 2018, pp. 221-224, doi: 10.1109/ICKII.2018.8569109. </p>\n",
        "<p> [7] https://discover.data.vic.gov.au/dataset/crash-stats-data-extract</p>\n",
        "<p> [8] https://susanqq.github.io/UTKFace/</p>\n",
        "<p> [9] http://parnec.nuaa.edu.cn/_upload/tpl/02/db/731/template731/pages/xtan/ClosedEyeDatabases.html</p>\n",
        "<p> [10] https://www.kaggle.com/datasets/msambare/fer2013</p>\n",
        "<p> [11] https://www.crowdhuman.org/ </p>\n",
        "\n",
        "\n",
        "\n",
        "\n",
        "\n"
      ],
      "metadata": {
        "id": "wg811VU851T4"
      }
    }
  ]
}